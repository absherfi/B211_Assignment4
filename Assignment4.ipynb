{
 "cells": [
  {
   "cell_type": "code",
   "execution_count": 7,
   "metadata": {},
   "outputs": [],
   "source": [
    "import pandas as pd\n",
    "import os as paths\n"
   ]
  },
  {
   "cell_type": "code",
   "execution_count": 8,
   "metadata": {},
   "outputs": [],
   "source": [
    "# Load the data from the csv files\n",
    "petal_data_path = paths.path.join(r\"C:\\Users\\abbis\\Downloads\", \"Petal_Data.csv\")\n",
    "sepal_data_path = paths.path.join(r\"C:\\Users\\abbis\\Downloads\", \"Sepal_Data.csv\")\n",
    "\n",
    "petal_data = pd.read_csv(petal_data_path)\n",
    "sepal_data = pd.read_csv(sepal_data_path)\n"
   ]
  },
  {
   "cell_type": "code",
   "execution_count": 25,
   "metadata": {},
   "outputs": [
    {
     "name": "stdout",
     "output_type": "stream",
     "text": [
      "           sample_id     species  petal_length  petal_width  sepal_length  \\\n",
      "0    g4JZlAtiN4mBGyE  versicolor      4.589243     1.306969      5.844006   \n",
      "1    BwWealRi00L4RH1  versicolor      4.836183     1.384244      5.919572   \n",
      "2    ZdyiDoTAArjRj3X   virginica      5.510280     1.786967      6.081146   \n",
      "3    0NqN8AaLZ8jelu^      setosa      1.434607     0.419694      4.036309   \n",
      "4    8nqRlCsXKJjHafD  versicolor      3.950310     1.224275      6.885232   \n",
      "..               ...         ...           ...          ...           ...   \n",
      "145  OdGVCXAogTKYlou      setosa      1.153406     0.253203      5.118126   \n",
      "146  RfhQcCqkgElTdgQ      setosa      1.939653     0.384366      4.672874   \n",
      "147  KVOgLV6Q#yIYrjY  versicolor      5.106639     1.533397      5.531415   \n",
      "148  wRkfYyPTwUzYYb0  versicolor      3.695471     1.078146      6.748385   \n",
      "149  LJKQtCDGGuAeSd,   virginica      5.875653     2.036419      6.384305   \n",
      "\n",
      "     sepal_width  \n",
      "0       3.341825  \n",
      "1       2.624173  \n",
      "2       3.040232  \n",
      "3       3.527450  \n",
      "4       3.631972  \n",
      "..           ...  \n",
      "145     3.092223  \n",
      "146     3.195519  \n",
      "147     2.214055  \n",
      "148     2.366439  \n",
      "149     2.604220  \n",
      "\n",
      "[150 rows x 6 columns]\n"
     ]
    }
   ],
   "source": [
    "# Merge the petal and sepal data\n",
    "merge_data = pd.merge(petal_data, sepal_data, on=['sample_id', 'species'])\n",
    "\n",
    "combined_data = merge_data.drop(columns=['Unnamed: 0_x', 'Unnamed: 0_y'])\n",
    "print(combined_data)\n"
   ]
  },
  {
   "cell_type": "code",
   "execution_count": 27,
   "metadata": {},
   "outputs": [
    {
     "name": "stdout",
     "output_type": "stream",
     "text": [
      "Correlation between sepal width and sepal length: -0.45178220752699605\n",
      "Correlation between sepal width and petal width: -0.45969187164759145\n",
      "Correlation between sepal width and petal length: -0.5153030832015026\n",
      "Correlation between sepal length and petal width: 0.7382434892711385\n",
      "Correlation between sepal length and petal length: 0.7523298643336122\n",
      "Correlation between petal width and petal length: 0.9434669077936447\n"
     ]
    }
   ],
   "source": [
    "# Calculate the correlation matrix for the combined data (there is a total of 6 combinations)\n",
    "numeric_data = combined_data.select_dtypes(include=[float, int])\n",
    "correlation_matrix = numeric_data.corr()\n",
    "\n",
    "s_width_s_length = correlation_matrix.loc['sepal_width', 'sepal_length']\n",
    "s_width_p_width = correlation_matrix.loc['sepal_width', 'petal_width']\n",
    "s_width_p_length = correlation_matrix.loc['sepal_width', 'petal_length']\n",
    "s_length_p_width = correlation_matrix.loc['sepal_length', 'petal_width']\n",
    "s_length_p_length = correlation_matrix.loc['sepal_length', 'petal_length']\n",
    "p_width_p_length = correlation_matrix.loc['petal_width', 'petal_length']\n",
    "print(f\"Correlation between sepal width and sepal length: {s_width_s_length}\")\n",
    "print(f\"Correlation between sepal width and petal width: {s_width_p_width}\")\n",
    "print(f\"Correlation between sepal width and petal length: {s_width_p_length}\")\n",
    "print(f\"Correlation between sepal length and petal width: {s_length_p_width}\")\n",
    "print(f\"Correlation between sepal length and petal length: {s_length_p_length}\")\n",
    "print(f\"Correlation between petal width and petal length: {p_width_p_length}\")\n"
   ]
  },
  {
   "cell_type": "code",
   "execution_count": 28,
   "metadata": {},
   "outputs": [
    {
     "name": "stdout",
     "output_type": "stream",
     "text": [
      "petal_length    3.750796\n",
      "petal_width     1.194937\n",
      "sepal_length    5.765735\n",
      "sepal_width     3.079449\n",
      "dtype: float64\n"
     ]
    }
   ],
   "source": [
    "# Average of each variable for all species in the data set\n",
    "averages = numeric_data.mean()\n",
    "print(averages)"
   ]
  },
  {
   "cell_type": "code",
   "execution_count": 29,
   "metadata": {},
   "outputs": [
    {
     "name": "stdout",
     "output_type": "stream",
     "text": [
      "petal_length    4.291721\n",
      "petal_width     1.372359\n",
      "sepal_length    5.777922\n",
      "sepal_width     3.096227\n",
      "dtype: float64\n"
     ]
    }
   ],
   "source": [
    "# Median of each variable for all species in the data set\n",
    "medians = numeric_data.median()\n",
    "print(medians)"
   ]
  },
  {
   "cell_type": "code",
   "execution_count": 30,
   "metadata": {},
   "outputs": [
    {
     "name": "stdout",
     "output_type": "stream",
     "text": [
      "petal_length    1.723538\n",
      "petal_width     0.743708\n",
      "sepal_length    0.735303\n",
      "sepal_width     0.465035\n",
      "dtype: float64\n"
     ]
    }
   ],
   "source": [
    "# Standard deviation of each variable for all species in the data set\n",
    "std_devs = numeric_data.std()\n",
    "print(std_devs)"
   ]
  },
  {
   "cell_type": "code",
   "execution_count": 36,
   "metadata": {},
   "outputs": [
    {
     "name": "stdout",
     "output_type": "stream",
     "text": [
      "                         petal_length  petal_width  sepal_length  sepal_width\n",
      "species                                                                      \n",
      "setosa     petal_length      1.000000     0.219993     -0.003592    -0.290102\n",
      "           petal_width       0.219993     1.000000      0.091356     0.036456\n",
      "           sepal_length     -0.003592     0.091356      1.000000     0.117963\n",
      "           sepal_width      -0.290102     0.036456      0.117963     1.000000\n",
      "versicolor petal_length      1.000000    -0.241938      0.007745    -0.063534\n",
      "           petal_width      -0.241938     1.000000     -0.021792     0.069380\n",
      "           sepal_length      0.007745    -0.021792      1.000000     0.155452\n",
      "           sepal_width      -0.063534     0.069380      0.155452     1.000000\n",
      "virginica  petal_length      1.000000     0.291776     -0.024689     0.027446\n",
      "           petal_width       0.291776     1.000000     -0.116856     0.042958\n",
      "           sepal_length     -0.024689    -0.116856      1.000000    -0.527611\n",
      "           sepal_width       0.027446     0.042958     -0.527611     1.000000\n"
     ]
    }
   ],
   "source": [
    "grouped_data = combined_data.groupby('species')\n",
    "correlation_matrix_grouped = grouped_data.apply(lambda x: x.select_dtypes(include=[float, int]).corr())\n",
    "\n",
    "print(correlation_matrix_grouped)"
   ]
  },
  {
   "cell_type": "code",
   "execution_count": null,
   "metadata": {},
   "outputs": [],
   "source": []
  }
 ],
 "metadata": {
  "kernelspec": {
   "display_name": "base",
   "language": "python",
   "name": "python3"
  },
  "language_info": {
   "codemirror_mode": {
    "name": "ipython",
    "version": 3
   },
   "file_extension": ".py",
   "mimetype": "text/x-python",
   "name": "python",
   "nbconvert_exporter": "python",
   "pygments_lexer": "ipython3",
   "version": "3.11.5"
  }
 },
 "nbformat": 4,
 "nbformat_minor": 2
}
